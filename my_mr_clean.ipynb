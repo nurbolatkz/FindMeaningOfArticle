{
 "cells": [
  {
   "cell_type": "code",
   "execution_count": 91,
   "id": "cd877c53-c97f-4cc4-b2eb-65513e39bad0",
   "metadata": {},
   "outputs": [],
   "source": [
    "import requests\n",
    "import re\n",
    "import seaborn as sns\n",
    "import matplotlib.pyplot as plt"
   ]
  },
  {
   "cell_type": "markdown",
   "id": "3798246d-8cd9-41f0-a8a1-c074a4802974",
   "metadata": {},
   "source": [
    "Getting the data"
   ]
  },
  {
   "cell_type": "code",
   "execution_count": 96,
   "id": "6320f468-8748-4ea3-b4c5-d57116836f23",
   "metadata": {},
   "outputs": [],
   "source": [
    "def get_content(article_name):\n",
    "    url = 'https://en.wikipedia.org/w/api.php'\n",
    "    PARAMS = {\n",
    "                \"action\": \"query\",\n",
    "                \"titles\": article_name,\n",
    "                'prop': 'extracts',\n",
    "                \"format\": \"json\",\n",
    "    }\n",
    "    response =  requests.get(url, params = PARAMS)\n",
    "    json_text = response.json()\n",
    "    raw_text =json_text['query']['pages']['22834']['extract']\n",
    "    return raw_text"
   ]
  },
  {
   "cell_type": "code",
   "execution_count": 97,
   "id": "d0a28f3d-6181-4749-9ade-3001f6a638c8",
   "metadata": {},
   "outputs": [],
   "source": [
    "raw_text = get_content(\"Ozone_layer\")\n",
    "#print(raw_text)"
   ]
  },
  {
   "cell_type": "markdown",
   "id": "0e590e89-3672-4498-a75c-1cf23d07fc49",
   "metadata": {},
   "source": [
    "Cleaning"
   ]
  },
  {
   "cell_type": "code",
   "execution_count": 98,
   "id": "2a4b6acd-6e65-4f51-9151-b926602fa5dc",
   "metadata": {},
   "outputs": [],
   "source": [
    "def clean_html(raw_html):\n",
    "    html =  re.compile('<.*?>')\n",
    "    cleaned =  re.sub(html, '', raw_html)\n",
    "    return cleaned"
   ]
  },
  {
   "cell_type": "code",
   "execution_count": 99,
   "id": "f430df96-9cac-4ea5-a015-c098973eebef",
   "metadata": {},
   "outputs": [],
   "source": [
    "raw_data = clean_html(raw_text)\n",
    "#print(raw_data)"
   ]
  },
  {
   "cell_type": "code",
   "execution_count": 100,
   "id": "6d94551e-1449-47c8-b1e9-69dbc3f15285",
   "metadata": {},
   "outputs": [],
   "source": [
    "def merge_contents(data):\n",
    "    clean_data = re.split(\"\\. |,|\\.|\\n| |-|\\'\", data)\n",
    "    return clean_data\n",
    "\n",
    "merge_content = merge_contents(raw_data)\n",
    "#print(merge_content)"
   ]
  },
  {
   "cell_type": "markdown",
   "id": "893c27b1-f56c-4901-80cb-eba17596a918",
   "metadata": {},
   "source": [
    "Tokenization"
   ]
  },
  {
   "cell_type": "code",
   "execution_count": 101,
   "id": "72d8be2a-d713-4989-9d12-3385140ebc9b",
   "metadata": {},
   "outputs": [],
   "source": [
    "def tokenize(content):\n",
    "    return [word for word in content if word.isalnum() and not word.isdigit() and len(word) > 1]\n",
    "collection = tokenize(merge_content)\n",
    "#print(collection)"
   ]
  },
  {
   "cell_type": "code",
   "execution_count": 103,
   "id": "71a9f516-55e0-4f93-97b5-6c50b4685e00",
   "metadata": {},
   "outputs": [],
   "source": [
    "def lower_collection(collection):\n",
    "    return [word.lower() for word in collection]\n",
    "collection = lower_collection(collection)\n",
    "#print(collection)"
   ]
  },
  {
   "cell_type": "code",
   "execution_count": 104,
   "id": "6569231d-a3be-4b28-888e-644b1c64bc42",
   "metadata": {},
   "outputs": [],
   "source": [
    "def count_frequency(collection):\n",
    "    return {word: collection.count(word) for word in collection}"
   ]
  },
  {
   "cell_type": "code",
   "execution_count": 115,
   "id": "7964a36a-1af7-450e-ae52-51a4d812d309",
   "metadata": {},
   "outputs": [],
   "source": [
    "frequencies = count_frequency(collection)\n",
    "#print(frequencies)"
   ]
  },
  {
   "cell_type": "code",
   "execution_count": 116,
   "id": "8dde66f6-438c-4cf5-b1ec-c7943fc169b3",
   "metadata": {},
   "outputs": [],
   "source": [
    "def print_most_frequent(frequencies, n): \n",
    "    sorted_dict  =  dict(sorted(frequencies.items(), key =lambda x: x[1], reverse = True))\n",
    "    keys = list(sorted_dict.keys())\n",
    "    new_dict = {}\n",
    "    for word in keys[0:n]:\n",
    "        new_dict[word] = sorted_dict[word]\n",
    "        print(word, \" : \", sorted_dict[word])\n",
    "    return new_dict"
   ]
  },
  {
   "cell_type": "code",
   "execution_count": 117,
   "id": "2b002725-d1d2-4e04-8ce2-bb54607dc1b7",
   "metadata": {},
   "outputs": [],
   "source": [
    "stop_words_file = open(\"stop_words.txt\", 'r')\n",
    "stop_words = ''\n",
    "for i in stop_words_file:\n",
    "    stop_words += i\n",
    "stop_words = stop_words.split(',')\n",
    "#print(stop_words)"
   ]
  },
  {
   "cell_type": "code",
   "execution_count": 118,
   "id": "e64be68b-ea12-429c-88fa-fdb53abf3554",
   "metadata": {},
   "outputs": [],
   "source": [
    "def remove_stop_words(collection, stop_words):\n",
    "    return [word for word in collection if word not in stop_words]"
   ]
  },
  {
   "cell_type": "code",
   "execution_count": 119,
   "id": "d0c764bc-b3d8-44de-94dc-b4d0c96200e3",
   "metadata": {},
   "outputs": [
    {
     "name": "stdout",
     "output_type": "stream",
     "text": [
      "ozone  :  79\n",
      "layer  :  25\n",
      "radiation  :  16\n",
      "ultraviolet  :  13\n",
      "stratosphere  :  12\n",
      "atmosphere  :  12\n",
      "earth  :  11\n",
      "surface  :  10\n",
      "depletion  :  9\n",
      "climate  :  8\n",
      "skin  :  7\n",
      "united  :  7\n",
      "oxygen  :  7\n",
      "out  :  6\n",
      "stratospheric  :  6\n",
      "light  :  6\n",
      "latitudes  :  6\n",
      "time  :  6\n",
      "sun  :  5\n",
      "high  :  5\n"
     ]
    }
   ],
   "source": [
    "filtered_collection = remove_stop_words(collection, stop_words)\n",
    "frequencies =  count_frequency(filtered_collection)\n",
    "#print(frequencies)\n",
    "top_20 = print_most_frequent(frequencies, 20)"
   ]
  },
  {
   "cell_type": "code",
   "execution_count": 90,
   "id": "d59bbf6a-9d39-44bb-af2f-a8b4822bc26b",
   "metadata": {},
   "outputs": [
    {
     "data": {
      "image/png": "[encoded data removed]",
      "text/plain": [
       "<Figure size 1080x576 with 1 Axes>"
      ]
     },
     "metadata": {
      "needs_background": "light"
     },
     "output_type": "display_data"
    }
   ],
   "source": [
    "plt.figure(figsize=(15,8))\n",
    "sns.barplot(x = list(top_20.values()), y = list(top_20.keys()))\n",
    "plt.show()"
   ]
  },
  {
   "cell_type": "code",
   "execution_count": null,
   "id": "642ef18e-3be8-46a8-bc1b-3a4697fcd7bf",
   "metadata": {},
   "outputs": [],
   "source": []
  }
 ],
 "metadata": {
  "kernelspec": {
   "display_name": "Python 3",
   "language": "python",
   "name": "python3"
  },
  "language_info": {
   "codemirror_mode": {
    "name": "ipython",
    "version": 3
   },
   "file_extension": ".py",
   "mimetype": "text/x-python",
   "name": "python",
   "nbconvert_exporter": "python",
   "pygments_lexer": "ipython3",
   "version": "3.9.4"
  }
 },
 "nbformat": 4,
 "nbformat_minor": 5
}
